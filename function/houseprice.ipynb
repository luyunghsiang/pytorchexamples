{
  "nbformat": 4,
  "nbformat_minor": 0,
  "metadata": {
    "colab": {
      "provenance": [],
      "authorship_tag": "ABX9TyPPgnE5Ec3YxyuXRdfL3zab",
      "include_colab_link": true
    },
    "kernelspec": {
      "name": "python3",
      "display_name": "Python 3"
    },
    "language_info": {
      "name": "python"
    }
  },
  "cells": [
    {
      "cell_type": "markdown",
      "metadata": {
        "id": "view-in-github",
        "colab_type": "text"
      },
      "source": [
        "<a href=\"https://colab.research.google.com/github/luyunghsiang/pytorchexamples/blob/main/function/houseprice.ipynb\" target=\"_parent\"><img src=\"https://colab.research.google.com/assets/colab-badge.svg\" alt=\"Open In Colab\"/></a>"
      ]
    },
    {
      "cell_type": "code",
      "execution_count": 1,
      "metadata": {
        "id": "FA9wiVpJ6s1u"
      },
      "outputs": [],
      "source": [
        "import torch\n",
        "import numpy as np\n",
        "import matplotlib.pyplot as plt\n",
        "import torch.nn as nn\n",
        "import torch.optim as optim\n",
        "import csv"
      ]
    },
    {
      "cell_type": "code",
      "source": [
        "def DataTransform(filepath):\n",
        "  with open(filepath, mode ='r') as file:\n",
        "    trainfile = csv.reader(file)\n",
        "    firstrow = next(trainfile)\n",
        "    inputdim = len(firstrow)\n",
        "    factors = []\n",
        "    prices = []\n",
        "    for line in trainfile:\n",
        "      inputs = line[0: inputdim - 1]\n",
        "      output = line[inputdim - 1: inputdim]\n",
        "      '''\n",
        "      values = [eval(inputs[0])]\n",
        "      values.append(eval(inputs[1]))\n",
        "      values.append(1e-2 * eval(inputs[2]))\n",
        "      values.append(1e-2 * eval(inputs[3]))\n",
        "      values.append(1e-3 * eval(inputs[4]))\n",
        "      '''\n",
        "      values = [eval(i) for i in inputs] # convert list of strings to list of values\n",
        "      normalize = [1, 1, 1e-2, 1e-2, 1e-3]\n",
        "      values = np.multiply(values, normalize)\n",
        "      factors.append(values)\n",
        "      value = [1e-6 * eval(i) for i in output] # unit of price: million\n",
        "      prices.append(value)\n",
        "  torchfactors = torch.tensor(np.array(factors), dtype = torch.float32)\n",
        "  torchprices = torch.tensor(np.array(prices), dtype = torch.float32)\n",
        "  return inputdim, torchfactors, torchprices"
      ],
      "metadata": {
        "id": "OFMkQ1VgrDm0"
      },
      "execution_count": 2,
      "outputs": []
    },
    {
      "cell_type": "code",
      "source": [
        "# data from https://www.kaggle.com/datasets/dansbecker/melbourne-housing-snapshot\n",
        "# divided into training (80%), validation (10%), test (10%)\n",
        "from google.colab import drive\n",
        "drive.mount('/content/drive/')\n",
        "path = \"/content/drive/My Drive/Colab Notebooks/machine learning/Functions/House Prices/\"\n",
        "# trainname = path + \"training-small.csv\"\n",
        "trainname = path + \"training.csv\"\n",
        "validname = path + \"validation.csv\"\n",
        "testname = path + \"test.csv\"\n",
        "traindim, trainfactors, trainprices = DataTransform(trainname)\n",
        "validdim, validfactors, validprices = DataTransform(validname)\n",
        "testdim,  testfactors,  testprices = DataTransform(testname)"
      ],
      "metadata": {
        "colab": {
          "base_uri": "https://localhost:8080/"
        },
        "id": "Qcd_bEV66_Sk",
        "outputId": "1dd9be65-e115-45fb-fe66-9e972ecdeccc"
      },
      "execution_count": 26,
      "outputs": [
        {
          "output_type": "stream",
          "name": "stdout",
          "text": [
            "Drive already mounted at /content/drive/; to attempt to forcibly remount, call drive.mount(\"/content/drive/\", force_remount=True).\n"
          ]
        }
      ]
    },
    {
      "cell_type": "code",
      "source": [
        "# draw histogram to check whether there any extreme value\n",
        "pricelist = trainprices.view(-1, 1)\n",
        "print(pricelist.shape)\n",
        "print(max(pricelist), min(pricelist), len(pricelist))\n",
        "import statistics\n",
        "print(statistics.stdev(pricelist.view(-1)))\n",
        "plt.hist(pricelist, 30)\n",
        "plt.show()"
      ],
      "metadata": {
        "colab": {
          "base_uri": "https://localhost:8080/",
          "height": 443
        },
        "id": "yg8vbu_u8IVI",
        "outputId": "4767e80f-f481-4b93-d179-b40c2f3e3025"
      },
      "execution_count": 41,
      "outputs": [
        {
          "output_type": "stream",
          "name": "stdout",
          "text": [
            "torch.Size([5486, 1])\n",
            "tensor([9.]) tensor([0.1310]) 5486\n"
          ]
        },
        {
          "output_type": "error",
          "ename": "TypeError",
          "evalue": "can't convert type 'Tensor' to numerator/denominator",
          "traceback": [
            "\u001b[0;31m---------------------------------------------------------------------------\u001b[0m",
            "\u001b[0;31mAttributeError\u001b[0m                            Traceback (most recent call last)",
            "\u001b[0;32m/usr/lib/python3.10/statistics.py\u001b[0m in \u001b[0;36m_exact_ratio\u001b[0;34m(x)\u001b[0m\n\u001b[1;32m    257\u001b[0m         \u001b[0;31m# x may be an Integral ABC.\u001b[0m\u001b[0;34m\u001b[0m\u001b[0;34m\u001b[0m\u001b[0m\n\u001b[0;32m--> 258\u001b[0;31m         \u001b[0;32mreturn\u001b[0m \u001b[0;34m(\u001b[0m\u001b[0mx\u001b[0m\u001b[0;34m.\u001b[0m\u001b[0mnumerator\u001b[0m\u001b[0;34m,\u001b[0m \u001b[0mx\u001b[0m\u001b[0;34m.\u001b[0m\u001b[0mdenominator\u001b[0m\u001b[0;34m)\u001b[0m\u001b[0;34m\u001b[0m\u001b[0;34m\u001b[0m\u001b[0m\n\u001b[0m\u001b[1;32m    259\u001b[0m     \u001b[0;32mexcept\u001b[0m \u001b[0mAttributeError\u001b[0m\u001b[0;34m:\u001b[0m\u001b[0;34m\u001b[0m\u001b[0;34m\u001b[0m\u001b[0m\n",
            "\u001b[0;31mAttributeError\u001b[0m: 'Tensor' object has no attribute 'numerator'",
            "\nDuring handling of the above exception, another exception occurred:\n",
            "\u001b[0;31mTypeError\u001b[0m                                 Traceback (most recent call last)",
            "\u001b[0;32m<ipython-input-41-c8a067282c79>\u001b[0m in \u001b[0;36m<cell line: 6>\u001b[0;34m()\u001b[0m\n\u001b[1;32m      4\u001b[0m \u001b[0mprint\u001b[0m\u001b[0;34m(\u001b[0m\u001b[0mmax\u001b[0m\u001b[0;34m(\u001b[0m\u001b[0mpricelist\u001b[0m\u001b[0;34m)\u001b[0m\u001b[0;34m,\u001b[0m \u001b[0mmin\u001b[0m\u001b[0;34m(\u001b[0m\u001b[0mpricelist\u001b[0m\u001b[0;34m)\u001b[0m\u001b[0;34m,\u001b[0m \u001b[0mlen\u001b[0m\u001b[0;34m(\u001b[0m\u001b[0mpricelist\u001b[0m\u001b[0;34m)\u001b[0m\u001b[0;34m)\u001b[0m\u001b[0;34m\u001b[0m\u001b[0;34m\u001b[0m\u001b[0m\n\u001b[1;32m      5\u001b[0m \u001b[0;32mimport\u001b[0m \u001b[0mstatistics\u001b[0m\u001b[0;34m\u001b[0m\u001b[0;34m\u001b[0m\u001b[0m\n\u001b[0;32m----> 6\u001b[0;31m \u001b[0mprint\u001b[0m\u001b[0;34m(\u001b[0m\u001b[0mstatistics\u001b[0m\u001b[0;34m.\u001b[0m\u001b[0mstdev\u001b[0m\u001b[0;34m(\u001b[0m\u001b[0mpricelist\u001b[0m\u001b[0;34m.\u001b[0m\u001b[0mview\u001b[0m\u001b[0;34m(\u001b[0m\u001b[0;34m-\u001b[0m\u001b[0;36m1\u001b[0m\u001b[0;34m)\u001b[0m\u001b[0;34m)\u001b[0m\u001b[0;34m)\u001b[0m\u001b[0;34m\u001b[0m\u001b[0;34m\u001b[0m\u001b[0m\n\u001b[0m\u001b[1;32m      7\u001b[0m \u001b[0mplt\u001b[0m\u001b[0;34m.\u001b[0m\u001b[0mhist\u001b[0m\u001b[0;34m(\u001b[0m\u001b[0mpricelist\u001b[0m\u001b[0;34m,\u001b[0m \u001b[0;36m30\u001b[0m\u001b[0;34m)\u001b[0m\u001b[0;34m\u001b[0m\u001b[0;34m\u001b[0m\u001b[0m\n\u001b[1;32m      8\u001b[0m \u001b[0mplt\u001b[0m\u001b[0;34m.\u001b[0m\u001b[0mshow\u001b[0m\u001b[0;34m(\u001b[0m\u001b[0;34m)\u001b[0m\u001b[0;34m\u001b[0m\u001b[0;34m\u001b[0m\u001b[0m\n",
            "\u001b[0;32m/usr/lib/python3.10/statistics.py\u001b[0m in \u001b[0;36mstdev\u001b[0;34m(data, xbar)\u001b[0m\n\u001b[1;32m    826\u001b[0m     \u001b[0;31m# remain because there are two rounding steps.  The first occurs in\u001b[0m\u001b[0;34m\u001b[0m\u001b[0;34m\u001b[0m\u001b[0m\n\u001b[1;32m    827\u001b[0m     \u001b[0;31m# the _convert() step for variance(), the second occurs in math.sqrt().\u001b[0m\u001b[0;34m\u001b[0m\u001b[0;34m\u001b[0m\u001b[0m\n\u001b[0;32m--> 828\u001b[0;31m     \u001b[0mvar\u001b[0m \u001b[0;34m=\u001b[0m \u001b[0mvariance\u001b[0m\u001b[0;34m(\u001b[0m\u001b[0mdata\u001b[0m\u001b[0;34m,\u001b[0m \u001b[0mxbar\u001b[0m\u001b[0;34m)\u001b[0m\u001b[0;34m\u001b[0m\u001b[0;34m\u001b[0m\u001b[0m\n\u001b[0m\u001b[1;32m    829\u001b[0m     \u001b[0;32mtry\u001b[0m\u001b[0;34m:\u001b[0m\u001b[0;34m\u001b[0m\u001b[0;34m\u001b[0m\u001b[0m\n\u001b[1;32m    830\u001b[0m         \u001b[0;32mreturn\u001b[0m \u001b[0mvar\u001b[0m\u001b[0;34m.\u001b[0m\u001b[0msqrt\u001b[0m\u001b[0;34m(\u001b[0m\u001b[0;34m)\u001b[0m\u001b[0;34m\u001b[0m\u001b[0;34m\u001b[0m\u001b[0m\n",
            "\u001b[0;32m/usr/lib/python3.10/statistics.py\u001b[0m in \u001b[0;36mvariance\u001b[0;34m(data, xbar)\u001b[0m\n\u001b[1;32m    766\u001b[0m     \u001b[0;32mif\u001b[0m \u001b[0mn\u001b[0m \u001b[0;34m<\u001b[0m \u001b[0;36m2\u001b[0m\u001b[0;34m:\u001b[0m\u001b[0;34m\u001b[0m\u001b[0;34m\u001b[0m\u001b[0m\n\u001b[1;32m    767\u001b[0m         \u001b[0;32mraise\u001b[0m \u001b[0mStatisticsError\u001b[0m\u001b[0;34m(\u001b[0m\u001b[0;34m'variance requires at least two data points'\u001b[0m\u001b[0;34m)\u001b[0m\u001b[0;34m\u001b[0m\u001b[0;34m\u001b[0m\u001b[0m\n\u001b[0;32m--> 768\u001b[0;31m     \u001b[0mT\u001b[0m\u001b[0;34m,\u001b[0m \u001b[0mss\u001b[0m \u001b[0;34m=\u001b[0m \u001b[0m_ss\u001b[0m\u001b[0;34m(\u001b[0m\u001b[0mdata\u001b[0m\u001b[0;34m,\u001b[0m \u001b[0mxbar\u001b[0m\u001b[0;34m)\u001b[0m\u001b[0;34m\u001b[0m\u001b[0;34m\u001b[0m\u001b[0m\n\u001b[0m\u001b[1;32m    769\u001b[0m     \u001b[0;32mreturn\u001b[0m \u001b[0m_convert\u001b[0m\u001b[0;34m(\u001b[0m\u001b[0mss\u001b[0m \u001b[0;34m/\u001b[0m \u001b[0;34m(\u001b[0m\u001b[0mn\u001b[0m \u001b[0;34m-\u001b[0m \u001b[0;36m1\u001b[0m\u001b[0;34m)\u001b[0m\u001b[0;34m,\u001b[0m \u001b[0mT\u001b[0m\u001b[0;34m)\u001b[0m\u001b[0;34m\u001b[0m\u001b[0;34m\u001b[0m\u001b[0m\n\u001b[1;32m    770\u001b[0m \u001b[0;34m\u001b[0m\u001b[0m\n",
            "\u001b[0;32m/usr/lib/python3.10/statistics.py\u001b[0m in \u001b[0;36m_ss\u001b[0;34m(data, c)\u001b[0m\n\u001b[1;32m    706\u001b[0m         \u001b[0mT\u001b[0m\u001b[0;34m,\u001b[0m \u001b[0mtotal\u001b[0m\u001b[0;34m,\u001b[0m \u001b[0mcount\u001b[0m \u001b[0;34m=\u001b[0m \u001b[0m_sum\u001b[0m\u001b[0;34m(\u001b[0m\u001b[0;34m(\u001b[0m\u001b[0mx\u001b[0m\u001b[0;34m-\u001b[0m\u001b[0mc\u001b[0m\u001b[0;34m)\u001b[0m\u001b[0;34m**\u001b[0m\u001b[0;36m2\u001b[0m \u001b[0;32mfor\u001b[0m \u001b[0mx\u001b[0m \u001b[0;32min\u001b[0m \u001b[0mdata\u001b[0m\u001b[0;34m)\u001b[0m\u001b[0;34m\u001b[0m\u001b[0;34m\u001b[0m\u001b[0m\n\u001b[1;32m    707\u001b[0m         \u001b[0;32mreturn\u001b[0m \u001b[0;34m(\u001b[0m\u001b[0mT\u001b[0m\u001b[0;34m,\u001b[0m \u001b[0mtotal\u001b[0m\u001b[0;34m)\u001b[0m\u001b[0;34m\u001b[0m\u001b[0;34m\u001b[0m\u001b[0m\n\u001b[0;32m--> 708\u001b[0;31m     \u001b[0mT\u001b[0m\u001b[0;34m,\u001b[0m \u001b[0mtotal\u001b[0m\u001b[0;34m,\u001b[0m \u001b[0mcount\u001b[0m \u001b[0;34m=\u001b[0m \u001b[0m_sum\u001b[0m\u001b[0;34m(\u001b[0m\u001b[0mdata\u001b[0m\u001b[0;34m)\u001b[0m\u001b[0;34m\u001b[0m\u001b[0;34m\u001b[0m\u001b[0m\n\u001b[0m\u001b[1;32m    709\u001b[0m     \u001b[0mmean_n\u001b[0m\u001b[0;34m,\u001b[0m \u001b[0mmean_d\u001b[0m \u001b[0;34m=\u001b[0m \u001b[0;34m(\u001b[0m\u001b[0mtotal\u001b[0m \u001b[0;34m/\u001b[0m \u001b[0mcount\u001b[0m\u001b[0;34m)\u001b[0m\u001b[0;34m.\u001b[0m\u001b[0mas_integer_ratio\u001b[0m\u001b[0;34m(\u001b[0m\u001b[0;34m)\u001b[0m\u001b[0;34m\u001b[0m\u001b[0;34m\u001b[0m\u001b[0m\n\u001b[1;32m    710\u001b[0m     \u001b[0mpartials\u001b[0m \u001b[0;34m=\u001b[0m \u001b[0mCounter\u001b[0m\u001b[0;34m(\u001b[0m\u001b[0;34m)\u001b[0m\u001b[0;34m\u001b[0m\u001b[0;34m\u001b[0m\u001b[0m\n",
            "\u001b[0;32m/usr/lib/python3.10/statistics.py\u001b[0m in \u001b[0;36m_sum\u001b[0;34m(data)\u001b[0m\n\u001b[1;32m    186\u001b[0m     \u001b[0;32mfor\u001b[0m \u001b[0mtyp\u001b[0m\u001b[0;34m,\u001b[0m \u001b[0mvalues\u001b[0m \u001b[0;32min\u001b[0m \u001b[0mgroupby\u001b[0m\u001b[0;34m(\u001b[0m\u001b[0mdata\u001b[0m\u001b[0;34m,\u001b[0m \u001b[0mtype\u001b[0m\u001b[0;34m)\u001b[0m\u001b[0;34m:\u001b[0m\u001b[0;34m\u001b[0m\u001b[0;34m\u001b[0m\u001b[0m\n\u001b[1;32m    187\u001b[0m         \u001b[0mT\u001b[0m \u001b[0;34m=\u001b[0m \u001b[0m_coerce\u001b[0m\u001b[0;34m(\u001b[0m\u001b[0mT\u001b[0m\u001b[0;34m,\u001b[0m \u001b[0mtyp\u001b[0m\u001b[0;34m)\u001b[0m  \u001b[0;31m# or raise TypeError\u001b[0m\u001b[0;34m\u001b[0m\u001b[0;34m\u001b[0m\u001b[0m\n\u001b[0;32m--> 188\u001b[0;31m         \u001b[0;32mfor\u001b[0m \u001b[0mn\u001b[0m\u001b[0;34m,\u001b[0m \u001b[0md\u001b[0m \u001b[0;32min\u001b[0m \u001b[0mmap\u001b[0m\u001b[0;34m(\u001b[0m\u001b[0m_exact_ratio\u001b[0m\u001b[0;34m,\u001b[0m \u001b[0mvalues\u001b[0m\u001b[0;34m)\u001b[0m\u001b[0;34m:\u001b[0m\u001b[0;34m\u001b[0m\u001b[0;34m\u001b[0m\u001b[0m\n\u001b[0m\u001b[1;32m    189\u001b[0m             \u001b[0mcount\u001b[0m \u001b[0;34m+=\u001b[0m \u001b[0;36m1\u001b[0m\u001b[0;34m\u001b[0m\u001b[0;34m\u001b[0m\u001b[0m\n\u001b[1;32m    190\u001b[0m             \u001b[0mpartials\u001b[0m\u001b[0;34m[\u001b[0m\u001b[0md\u001b[0m\u001b[0;34m]\u001b[0m \u001b[0;34m=\u001b[0m \u001b[0mpartials_get\u001b[0m\u001b[0;34m(\u001b[0m\u001b[0md\u001b[0m\u001b[0;34m,\u001b[0m \u001b[0;36m0\u001b[0m\u001b[0;34m)\u001b[0m \u001b[0;34m+\u001b[0m \u001b[0mn\u001b[0m\u001b[0;34m\u001b[0m\u001b[0;34m\u001b[0m\u001b[0m\n",
            "\u001b[0;32m/usr/lib/python3.10/statistics.py\u001b[0m in \u001b[0;36m_exact_ratio\u001b[0;34m(x)\u001b[0m\n\u001b[1;32m    259\u001b[0m     \u001b[0;32mexcept\u001b[0m \u001b[0mAttributeError\u001b[0m\u001b[0;34m:\u001b[0m\u001b[0;34m\u001b[0m\u001b[0;34m\u001b[0m\u001b[0m\n\u001b[1;32m    260\u001b[0m         \u001b[0mmsg\u001b[0m \u001b[0;34m=\u001b[0m \u001b[0;34mf\"can't convert type '{type(x).__name__}' to numerator/denominator\"\u001b[0m\u001b[0;34m\u001b[0m\u001b[0;34m\u001b[0m\u001b[0m\n\u001b[0;32m--> 261\u001b[0;31m         \u001b[0;32mraise\u001b[0m \u001b[0mTypeError\u001b[0m\u001b[0;34m(\u001b[0m\u001b[0mmsg\u001b[0m\u001b[0;34m)\u001b[0m\u001b[0;34m\u001b[0m\u001b[0;34m\u001b[0m\u001b[0m\n\u001b[0m\u001b[1;32m    262\u001b[0m \u001b[0;34m\u001b[0m\u001b[0m\n\u001b[1;32m    263\u001b[0m \u001b[0;34m\u001b[0m\u001b[0m\n",
            "\u001b[0;31mTypeError\u001b[0m: can't convert type 'Tensor' to numerator/denominator"
          ]
        }
      ]
    },
    {
      "cell_type": "code",
      "source": [
        "print(trainprices)"
      ],
      "metadata": {
        "colab": {
          "base_uri": "https://localhost:8080/"
        },
        "id": "1J7JP8W3ApiR",
        "outputId": "ebd0fe1d-8488-4879-c468-37325c7eda07"
      },
      "execution_count": 29,
      "outputs": [
        {
          "output_type": "stream",
          "name": "stdout",
          "text": [
            "tensor([[1.3620],\n",
            "        [1.4720],\n",
            "        [0.7380],\n",
            "        ...,\n",
            "        [0.6900],\n",
            "        [0.5000],\n",
            "        [1.3020]])\n"
          ]
        }
      ]
    },
    {
      "cell_type": "code",
      "source": [
        "print(pricelist)"
      ],
      "metadata": {
        "colab": {
          "base_uri": "https://localhost:8080/"
        },
        "id": "Yqwh0xqOHjd5",
        "outputId": "0f358c76-cb59-40ef-e3ad-9b43ada26b15"
      },
      "execution_count": 37,
      "outputs": [
        {
          "output_type": "stream",
          "name": "stdout",
          "text": [
            "tensor([[1.3620],\n",
            "        [1.4720],\n",
            "        [0.7380],\n",
            "        ...,\n",
            "        [0.6900],\n",
            "        [0.5000],\n",
            "        [1.3020]])\n"
          ]
        }
      ]
    },
    {
      "cell_type": "code",
      "source": [
        "# factors = trainset[0:inputdim - 2, ]\n",
        "# prices = trainset[inputdim - 1: inputdim - 1, ]\n",
        "# print(factors)\n",
        "# print(prices)"
      ],
      "metadata": {
        "id": "S0w8RWnybdb7"
      },
      "execution_count": 4,
      "outputs": []
    },
    {
      "cell_type": "code",
      "source": [
        "class HousePrice(nn.Module):\n",
        "  def __init__(self, inputdim):\n",
        "    super(HousePrice, self).__init__()\n",
        "    self.degree = inputdim\n",
        "    self.linear1 = torch.nn.Linear(self.degree, 8)\n",
        "    self.linear2 = torch.nn.Linear(8, 8)\n",
        "    self.linear3 = torch.nn.Linear(8, 1)\n",
        "  def forward(self,x):\n",
        "    x = self.linear1(x)\n",
        "    x = torch.relu(x)\n",
        "    x = self.linear2(x)\n",
        "    x = torch.relu(x)\n",
        "    x = self.linear3(x)\n",
        "    # print(\"x = \" + str(x))\n",
        "    x = torch.abs(x)\n",
        "    return x"
      ],
      "metadata": {
        "id": "X-FGMGuYaFMV"
      },
      "execution_count": 5,
      "outputs": []
    },
    {
      "cell_type": "code",
      "source": [
        "def Train(model, input, output, learning_rate = 1e-6, loss_threshold = 1e-2, max_iterations = 1e+5):\n",
        "  stop = False\n",
        "  loss_list = []\n",
        "  stop = False\n",
        "  lossfunc = nn.MSELoss(reduction='sum')\n",
        "  optimizer = torch.optim.SGD(model.parameters(), lr = learning_rate)\n",
        "  iter = 0\n",
        "  '''\n",
        "  print(\"model\")\n",
        "  print(model.linear1.weight)\n",
        "  print(model.linear2.weight)\n",
        "  print(model.linear3.weight)\n",
        "  print(\"____________________\")\n",
        "  print(\"input\")\n",
        "  print(input)\n",
        "  print(\"output\")\n",
        "  print(output)\n",
        "  print(\"====================\")\n",
        "  '''\n",
        "  while ((stop == False) and (iter < max_iterations)):\n",
        "    ybar = model(input)\n",
        "    '''\n",
        "    print(\"ybar\")\n",
        "    print(ybar)\n",
        "    print(\"..................\")\n",
        "    '''\n",
        "    optimizer.zero_grad()\n",
        "    loss = lossfunc(ybar, output)\n",
        "    '''\n",
        "    print(\"loss\")\n",
        "    print(loss)\n",
        "    print(\"~~~~~~~~~~~~~~~~~~~\")\n",
        "    '''\n",
        "    if((iter % 1000) == 0):\n",
        "      loss_list.append(loss.item())\n",
        "    loss.backward()\n",
        "    optimizer.step()\n",
        "    '''\n",
        "    print(\"model\")\n",
        "    print(model.linear1.weight)\n",
        "    print(model.linear2.weight)\n",
        "    print(model.linear3.weight)\n",
        "    print(\"____________________\")\n",
        "    '''\n",
        "    if (loss < loss_threshold):\n",
        "      stop = True\n",
        "    iter = iter + 1\n",
        "  return iter, loss_list"
      ],
      "metadata": {
        "id": "UZNAovGUa3As"
      },
      "execution_count": 6,
      "outputs": []
    },
    {
      "cell_type": "code",
      "source": [
        "pricemodel = HousePrice(traindim - 1)\n",
        "'''\n",
        "print(pricemodel.linear1.weight)\n",
        "print(pricemodel.linear2.weight)\n",
        "print(pricemodel.linear3.weight)\n",
        "'''\n",
        "iterations, loss_list = Train(pricemodel, trainfactors, trainprices, loss_threshold= 0.1)\n",
        "'''\n",
        "print(iterations)\n",
        "print(pricemodel.linear1.weight)\n",
        "print(pricemodel.linear2.weight)\n",
        "print(pricemodel.linear3.weight)\n",
        "'''"
      ],
      "metadata": {
        "colab": {
          "base_uri": "https://localhost:8080/",
          "height": 35
        },
        "id": "ukWqrAyugb-j",
        "outputId": "5c7bef27-a7c6-4dd0-e447-dc5324af8e54"
      },
      "execution_count": 7,
      "outputs": [
        {
          "output_type": "execute_result",
          "data": {
            "text/plain": [
              "'\\nprint(iterations)\\nprint(pricemodel.linear1.weight)\\nprint(pricemodel.linear2.weight)\\nprint(pricemodel.linear3.weight)\\n'"
            ],
            "application/vnd.google.colaboratory.intrinsic+json": {
              "type": "string"
            }
          },
          "metadata": {},
          "execution_count": 7
        }
      ]
    },
    {
      "cell_type": "code",
      "source": [
        "plt.plot(loss_list, 'r')\n",
        "plt.tight_layout()\n",
        "plt.grid('True', color='y')\n",
        "plt.xlabel(\"Epochs/Iterations\")\n",
        "plt.ylabel(\"Loss\")\n",
        "plt.yscale(\"log\")\n",
        "plt.show()"
      ],
      "metadata": {
        "colab": {
          "base_uri": "https://localhost:8080/",
          "height": 506
        },
        "id": "zNfRT2x-77E1",
        "outputId": "e49fb314-01c9-4e48-95fb-fcf84f71d256"
      },
      "execution_count": 8,
      "outputs": [
        {
          "output_type": "display_data",
          "data": {
            "text/plain": [
              "<Figure size 640x480 with 1 Axes>"
            ],
            "image/png": "[encoded data removed]"
          },
          "metadata": {}
        }
      ]
    },
    {
      "cell_type": "code",
      "source": [
        "# print(trainfactors)\n",
        "sampletrainprices = trainprices[1:1000]\n",
        "samplemodelprices = pricemodel(trainfactors)[1:1000]\n",
        "# print(validfactors[1:10])\n",
        "vprices = pricemodel(validfactors)\n",
        "samplevalidmodel = validprices[1:100]\n",
        "samplevalidprices = vprices[1:100]\n",
        "'''\n",
        "print(sampletrainprices)\n",
        "print(samplemodelprices)\n",
        "print(samplevalidprices)\n",
        "print(samplevalidmodel)\n",
        "'''"
      ],
      "metadata": {
        "colab": {
          "base_uri": "https://localhost:8080/",
          "height": 35
        },
        "id": "gb-pe7xvc8Fx",
        "outputId": "e779521a-a53e-41a7-a325-4d61d3099e43"
      },
      "execution_count": 17,
      "outputs": [
        {
          "output_type": "execute_result",
          "data": {
            "text/plain": [
              "'\\nprint(sampletrainprices)\\nprint(samplemodelprices)\\nprint(samplevalidprices)\\nprint(samplevalidmodel)\\n'"
            ],
            "application/vnd.google.colaboratory.intrinsic+json": {
              "type": "string"
            }
          },
          "metadata": {},
          "execution_count": 17
        }
      ]
    },
    {
      "cell_type": "code",
      "source": [
        "plt.plot(sampletrainprices, 'r+')\n",
        "plt.plot(samplemodelprices.detach().numpy(), 'b+')\n",
        "plt.plot(samplevalidmodel, 'ko')\n",
        "plt.plot(samplevalidprices.detach().numpy(), 'mo')\n",
        "plt.show()"
      ],
      "metadata": {
        "colab": {
          "base_uri": "https://localhost:8080/",
          "height": 430
        },
        "id": "UCfwLEL_vfEU",
        "outputId": "d062c2df-aa69-49e3-95e0-9b078f136294"
      },
      "execution_count": 10,
      "outputs": [
        {
          "output_type": "display_data",
          "data": {
            "text/plain": [
              "<Figure size 640x480 with 1 Axes>"
            ],
            "image/png": "[encoded data removed]"
          },
          "metadata": {}
        }
      ]
    },
    {
      "cell_type": "code",
      "source": [
        "# x-y plot\n",
        "plt.plot(samplevalidmodel, samplevalidprices.detach().numpy(), 'ro')\n",
        "plt.plot(sampletrainprices, samplemodelprices.detach().numpy(), 'b+')\n",
        "plt.show()"
      ],
      "metadata": {
        "colab": {
          "base_uri": "https://localhost:8080/",
          "height": 430
        },
        "id": "ojDhrGck4A8Q",
        "outputId": "0205a46e-5c12-45c3-a0a6-aae6ddf756de"
      },
      "execution_count": 18,
      "outputs": [
        {
          "output_type": "display_data",
          "data": {
            "text/plain": [
              "<Figure size 640x480 with 1 Axes>"
            ],
            "image/png": "[encoded data removed]"
          },
          "metadata": {}
        }
      ]
    },
    {
      "cell_type": "code",
      "source": [
        "'''\n",
        "with open(name, mode ='r') as file:\n",
        "  trainfile = csv.reader(file)\n",
        "  firstrow = next(trainfile)\n",
        "  inputdim = len(firstrow)\n",
        "  factors = []\n",
        "  prices = []\n",
        "  for line in trainfile:\n",
        "    inputs = line[0: inputdim - 1]\n",
        "    output = line[inputdim - 1: inputdim]\n",
        "    # print(inputs)\n",
        "    # print(output)\n",
        "    values = [eval(i) for i in inputs] # convert list of strings to list of values\n",
        "    factors.append(values)\n",
        "    value = [1e-6 * eval(i) for i in output] # unit of price: million\n",
        "    prices.append(value)\n",
        "# print(firstrow)\n",
        "# print(type(factors))\n",
        "# print(factors[0])\n",
        "# print(prices[0])\n",
        "trainfactors = torch.tensor(np.array(factors), dtype = torch.float32)\n",
        "trainprices = torch.tensor(np.array(prices), dtype = torch.float32)\n",
        "# print(type(trainfactors))\n",
        "'''"
      ],
      "metadata": {
        "colab": {
          "base_uri": "https://localhost:8080/",
          "height": 122
        },
        "id": "bUfz9ldATHnW",
        "outputId": "5f059650-2a48-436f-90c1-049bea070478"
      },
      "execution_count": 12,
      "outputs": [
        {
          "output_type": "execute_result",
          "data": {
            "text/plain": [
              "\"\\nwith open(name, mode ='r') as file:\\n  trainfile = csv.reader(file)\\n  firstrow = next(trainfile)\\n  inputdim = len(firstrow)\\n  factors = []\\n  prices = []\\n  for line in trainfile:\\n    inputs = line[0: inputdim - 1]\\n    output = line[inputdim - 1: inputdim]\\n    # print(inputs)\\n    # print(output)\\n    values = [eval(i) for i in inputs] # convert list of strings to list of values\\n    factors.append(values)\\n    value = [1e-6 * eval(i) for i in output] # unit of price: million\\n    prices.append(value)\\n# print(firstrow)\\n# print(type(factors))\\n# print(factors[0])\\n# print(prices[0])\\ntrainfactors = torch.tensor(np.array(factors), dtype = torch.float32)\\ntrainprices = torch.tensor(np.array(prices), dtype = torch.float32)\\n# print(type(trainfactors))\\n\""
            ],
            "application/vnd.google.colaboratory.intrinsic+json": {
              "type": "string"
            }
          },
          "metadata": {},
          "execution_count": 12
        }
      ]
    }
  ]
}